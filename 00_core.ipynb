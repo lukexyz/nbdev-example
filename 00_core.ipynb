{
 "cells": [
  {
   "cell_type": "code",
   "execution_count": null,
   "metadata": {},
   "outputs": [],
   "source": [
    "#| default_exp core"
   ]
  },
  {
   "cell_type": "markdown",
   "metadata": {},
   "source": [
    "# core--Example module\n",
    "> A simple API for creating and using playing cards"
   ]
  },
  {
   "cell_type": "code",
   "execution_count": null,
   "metadata": {},
   "outputs": [],
   "source": [
    "#| export\n",
    "from fastcore.utils import *"
   ]
  },
  {
   "cell_type": "code",
   "execution_count": null,
   "metadata": {},
   "outputs": [],
   "source": [
    "#| hide\n",
    "from nbdev.showdoc import *\n",
    "from fastcore.test import *"
   ]
  },
  {
   "cell_type": "code",
   "execution_count": null,
   "metadata": {},
   "outputs": [],
   "source": [
    "#| export\n",
    "def hello_player(to):\n",
    "    \"Say hello to a player\"\n",
    "    return f'Hello {to}! From 00_core.ipynb'"
   ]
  },
  {
   "cell_type": "markdown",
   "metadata": {},
   "source": [
    "# 1. Playing Cards"
   ]
  },
  {
   "cell_type": "markdown",
   "metadata": {},
   "source": [
    "References: \n",
    "\n",
    "1. Demo from https://github.com/fastai/nbdev_cards  \n",
    "2. [Think Python 2nd\n",
    "Edition](https://greenteapress.com/wp/think-python-2e/) by Allen B.\n",
    "Downey."
   ]
  },
  {
   "cell_type": "code",
   "execution_count": null,
   "metadata": {},
   "outputs": [],
   "source": [
    "#| export\n",
    "# [\"♣️\",\"🔶\",\"❤️\",\"♠️\", \"🃏\"]\n",
    "suits = \"♠ ♣ ♦ ♥ 🃏\".split()\n",
    "ranks = [None] + [x for x in range(2,11)] + \"J Q K A\".split()"
   ]
  },
  {
   "cell_type": "code",
   "execution_count": null,
   "metadata": {},
   "outputs": [
    {
     "name": "stdout",
     "output_type": "stream",
     "text": [
      "['♠', '♣', '♦', '♥', '🃏']\n",
      "[None, 2, 3, 4, 5, 6, 7, 8, 9, 10, 'J', 'Q', 'K', 'A']\n"
     ]
    }
   ],
   "source": [
    "print(suits)\n",
    "print(ranks)"
   ]
  },
  {
   "cell_type": "code",
   "execution_count": null,
   "metadata": {},
   "outputs": [],
   "source": [
    "#| export\n",
    "\n",
    "class Card:\n",
    "    \"\"\"A playing card.\"\"\"\n",
    "    def __init__(self, \n",
    "                 rank:int, \n",
    "                 suit:int):\n",
    "        self.rank = rank\n",
    "        self.suit = suit\n",
    "    def __str__(self): \n",
    "        if self.suit==4: return f\"{suits[self.suit]}\"\n",
    "        else: return f\"{ranks[self.rank]}{suits[self.suit]}\"\n",
    "    __repr__=__str__\n",
    "    def __eq__(self, a): return self.rank == a.rank\n",
    "    def __gt__(self, a): return self.rank > a.rank\n",
    "    def __st__(self, a): return self.rank < a.rank\n",
    "    "
   ]
  },
  {
   "cell_type": "code",
   "execution_count": null,
   "metadata": {},
   "outputs": [
    {
     "data": {
      "text/plain": [
       "3♥"
      ]
     },
     "execution_count": null,
     "metadata": {},
     "output_type": "execute_result"
    }
   ],
   "source": [
    "c = Card(rank=2, suit=3)\n",
    "c"
   ]
  },
  {
   "cell_type": "code",
   "execution_count": null,
   "metadata": {},
   "outputs": [
    {
     "data": {
      "text/plain": [
       "Q♠"
      ]
     },
     "execution_count": null,
     "metadata": {},
     "output_type": "execute_result"
    }
   ],
   "source": [
    "b = Card(rank=11, suit=0)\n",
    "b"
   ]
  },
  {
   "cell_type": "markdown",
   "metadata": {},
   "source": [
    "#### Comparison operator tests:"
   ]
  },
  {
   "cell_type": "code",
   "execution_count": null,
   "metadata": {},
   "outputs": [],
   "source": [
    "test_eq(Card(suit=3, rank=2), Card(suit=3, rank=2))\n",
    "assert Card(suit=11, rank=1), Card(rank=2, suit=0)"
   ]
  },
  {
   "cell_type": "code",
   "execution_count": null,
   "metadata": {},
   "outputs": [
    {
     "data": {
      "text/plain": [
       "True"
      ]
     },
     "execution_count": null,
     "metadata": {},
     "output_type": "execute_result"
    }
   ],
   "source": [
    "b > c"
   ]
  },
  {
   "cell_type": "markdown",
   "metadata": {},
   "source": [
    "#### Show inline documentation:"
   ]
  },
  {
   "cell_type": "code",
   "execution_count": null,
   "metadata": {},
   "outputs": [
    {
     "data": {
      "text/markdown": [
       "---\n",
       "\n",
       "#### test\n",
       "\n",
       ">      test (a, b, cmp, cname=None)\n",
       "\n",
       "`assert` that `cmp(a,b)`; display inputs and `cname or cmp.__name__` if it fails"
      ],
      "text/plain": [
       "<nbdev.showdoc.BasicMarkdownRenderer>"
      ]
     },
     "execution_count": null,
     "metadata": {},
     "output_type": "execute_result"
    }
   ],
   "source": [
    "show_doc(test)"
   ]
  },
  {
   "cell_type": "markdown",
   "metadata": {},
   "source": [
    "## 2. Deck"
   ]
  },
  {
   "cell_type": "code",
   "execution_count": null,
   "metadata": {},
   "outputs": [],
   "source": [
    "#| export\n",
    "\n",
    "import random\n",
    "\n",
    "class Deck:\n",
    "    \"A deck of 54 cards, including two jokers.\"\n",
    "    def __init__(self, jokers=True):\n",
    "        self.cards = [Card(suit=s, rank=r) for s in range(4) for r in range(1,14)]\n",
    "        if jokers:\n",
    "            self.cards.append(Card(suit=4, rank=None))\n",
    "            self.cards.append(Card(suit=4, rank=None))\n",
    "            \n",
    "    def __str__(self):\n",
    "        ret = f\"Deck ({len(self.cards)})\\n\"\n",
    "        cardlist = \"\".join([f\"{card}; \" for card in self.cards])\n",
    "        return ret + cardlist\n",
    "    __repr__ = __str__\n",
    "    \n",
    "    def __len__(self):\n",
    "        return len(self.cards)\n",
    "    \n",
    "    def shuffle(self):\n",
    "        random.shuffle(self.cards)\n",
    "        \n",
    "    def take_card(self):\n",
    "        return self.cards.pop()\n",
    "    \n",
    "    def draw_n(self, n:int):\n",
    "        hand = []\n",
    "        for card in range(n):\n",
    "            hand.append(self.take_card())\n",
    "        return hand\n"
   ]
  },
  {
   "cell_type": "code",
   "execution_count": null,
   "metadata": {},
   "outputs": [
    {
     "data": {
      "text/plain": [
       "Deck (54)\n",
       "2♠; 3♠; 4♠; 5♠; 6♠; 7♠; 8♠; 9♠; 10♠; J♠; Q♠; K♠; A♠; 2♣; 3♣; 4♣; 5♣; 6♣; 7♣; 8♣; 9♣; 10♣; J♣; Q♣; K♣; A♣; 2♦; 3♦; 4♦; 5♦; 6♦; 7♦; 8♦; 9♦; 10♦; J♦; Q♦; K♦; A♦; 2♥; 3♥; 4♥; 5♥; 6♥; 7♥; 8♥; 9♥; 10♥; J♥; Q♥; K♥; A♥; 🃏; 🃏; "
      ]
     },
     "execution_count": null,
     "metadata": {},
     "output_type": "execute_result"
    }
   ],
   "source": [
    "deck = Deck()\n",
    "deck"
   ]
  },
  {
   "cell_type": "markdown",
   "metadata": {},
   "source": [
    "Shuffle deck and take a card:"
   ]
  },
  {
   "cell_type": "code",
   "execution_count": null,
   "metadata": {},
   "outputs": [
    {
     "data": {
      "text/plain": [
       "8♠"
      ]
     },
     "execution_count": null,
     "metadata": {},
     "output_type": "execute_result"
    }
   ],
   "source": [
    "deck.shuffle()\n",
    "c = deck.take_card()\n",
    "c"
   ]
  },
  {
   "cell_type": "code",
   "execution_count": null,
   "metadata": {},
   "outputs": [
    {
     "name": "stdout",
     "output_type": "stream",
     "text": [
      "Deck (53)\n",
      "2♥; A♠; 4♥; 10♣; 6♥; 6♣; 🃏; 4♦; 8♥; K♦; A♣; 2♦; 3♠; 6♦; 8♦; J♣; 10♠; 7♠; 5♣; J♠; 9♣; Q♣; 2♠; 3♣; A♥; 9♥; 10♦; 5♦; 4♠; 🃏; J♥; 2♣; 7♦; Q♠; 10♥; 9♦; 9♠; Q♦; 7♥; 3♦; K♣; K♥; Q♥; 5♥; A♦; 3♥; 6♠; 7♣; 4♣; J♦; 8♣; K♠; 5♠; \n"
     ]
    }
   ],
   "source": [
    "print(deck)"
   ]
  },
  {
   "cell_type": "code",
   "execution_count": null,
   "metadata": {},
   "outputs": [
    {
     "name": "stdout",
     "output_type": "stream",
     "text": [
      "2♥ 3 1\n",
      "A♠ 0 13\n",
      "4♥ 3 3\n"
     ]
    }
   ],
   "source": [
    "for card in deck.cards[:3]:\n",
    "    print(card, card.suit, card.rank)"
   ]
  },
  {
   "cell_type": "code",
   "execution_count": null,
   "metadata": {},
   "outputs": [
    {
     "name": "stdout",
     "output_type": "stream",
     "text": [
      "[5♦, J♠, 7♦, 6♣, 2♥]\n",
      "[K♥, Q♠, 🃏, 6♦, 🃏]\n",
      "[7♣, 3♦, 5♠, Q♣, 6♥]\n"
     ]
    }
   ],
   "source": [
    "deck = Deck()\n",
    "deck.shuffle()\n",
    "h1, h2, h3 = deck.draw_n(5), deck.draw_n(5), deck.draw_n(5)\n",
    "print(h1, h2, h3, sep=\"\\n\")"
   ]
  }
 ],
 "metadata": {
  "kernelspec": {
   "display_name": "Python 3 (ipykernel)",
   "language": "python",
   "name": "python3"
  }
 },
 "nbformat": 4,
 "nbformat_minor": 4
}
